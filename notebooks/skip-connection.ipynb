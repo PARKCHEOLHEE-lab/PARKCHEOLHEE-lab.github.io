{
 "cells": [
  {
   "cell_type": "code",
   "execution_count": 1,
   "metadata": {},
   "outputs": [],
   "source": [
    "# Import libs\n",
    "\n",
    "import torch\n",
    "import torch.nn as nn"
   ]
  },
  {
   "cell_type": "code",
   "execution_count": 7,
   "metadata": {},
   "outputs": [],
   "source": [
    "# Let's say the data is a size 28x28 image\n",
    "\n",
    "IMAGE_SIZE = 28\n",
    "BATCH_SIZE = 1\n",
    "CHANNEL_SIZE = 1"
   ]
  },
  {
   "cell_type": "code",
   "execution_count": 39,
   "metadata": {},
   "outputs": [],
   "source": [
    "# Define simple MLP with skip connection\n",
    "\n",
    "class ResidualMLP(nn.Module):\n",
    "    \n",
    "    MODE_CONCATENTATION = \"concatenation\"\n",
    "    MODE_SUMMATION = \"summation\"\n",
    "    \n",
    "    def __init__(self, in_features: int, mode: str):\n",
    "        super().__init__()\n",
    "        \n",
    "        assert mode in (ResidualMLP.MODE_CONCATENTATION, ResidualMLP.MODE_SUMMATION)\n",
    "        \n",
    "        self.in_features = in_features\n",
    "        self.mode = mode\n",
    "        \n",
    "        if mode == ResidualMLP.MODE_CONCATENTATION:\n",
    "            self.layers = [\n",
    "                nn.Linear(in_features, in_features),\n",
    "                nn.ReLU(),\n",
    "                nn.Linear(in_features * 2, in_features),\n",
    "                nn.ReLU(),\n",
    "                nn.Linear(in_features * 2, in_features),\n",
    "            ]\n",
    "            \n",
    "        elif mode == ResidualMLP.MODE_SUMMATION:\n",
    "            self.layers = [\n",
    "                nn.Linear(in_features, in_features),\n",
    "                nn.ReLU(),\n",
    "                nn.Linear(in_features, in_features),\n",
    "                nn.ReLU(),\n",
    "                nn.Linear(in_features, in_features),\n",
    "            ]\n",
    "            \n",
    "        self.sigmoid = nn.Sigmoid()\n",
    "                \n",
    "    def forward(self, x: torch.Tensor):\n",
    "        \n",
    "        # input x\n",
    "        __x = x.clone()\n",
    "        \n",
    "        if self.mode == ResidualMLP.MODE_CONCATENTATION:\n",
    "            \"\"\"structure:\n",
    "                ├─────────────────────────┬─────────────────────────┐\n",
    "                │                         (cat)                        (cat)\n",
    "                784 ───────> 784 ───────> 1568 ───────> 784 ───────> 1568 ───────> 784\n",
    "            \"\"\" \n",
    "            \n",
    "            for li, layer in enumerate(self.layers):\n",
    "                x = layer(x)\n",
    "                if li != len(self.layers) - 1 and isinstance(layer, nn.Linear):\n",
    "                    x = torch.cat([x, __x], dim=1)\n",
    "        \n",
    "        elif self.mode == ResidualMLP.MODE_SUMMATION:\n",
    "            \"\"\"structure:\n",
    "                ├────────────┬────────────┬────────────┬───────────┬────────────┐\n",
    "                │           (sum)         (sum)         (sum)         (sum)         (sum)\n",
    "                784 ───────> 784 ───────> 784 ───────> 784 ───────> 784 ───────> 784\n",
    "            \"\"\"\n",
    "            \n",
    "            for layer in self.layers:\n",
    "                x = layer(x)\n",
    "                if isinstance(layer, nn.Linear):\n",
    "                    x += __x\n",
    "            \n",
    "        x = self.sigmoid(x)\n",
    "        \n",
    "        return x.reshape(-1, CHANNEL_SIZE, IMAGE_SIZE, IMAGE_SIZE)"
   ]
  },
  {
   "cell_type": "code",
   "execution_count": 42,
   "metadata": {},
   "outputs": [
    {
     "name": "stdout",
     "output_type": "stream",
     "text": [
      "torch.Size([1, 1, 28, 28])\n",
      "torch.Size([1, 1, 28, 28])\n",
      "torch.Size([1, 1, 28, 28])\n"
     ]
    }
   ],
   "source": [
    "# Input & Output shapes checking\n",
    "\n",
    "noise = torch.randn(size=(BATCH_SIZE, CHANNEL_SIZE, IMAGE_SIZE, IMAGE_SIZE))\n",
    "print(noise.shape)\n",
    "\n",
    "mlp = ResidualMLP(784, ResidualMLP.MODE_CONCATENTATION)\n",
    "print(mlp(noise.reshape(-1, IMAGE_SIZE * IMAGE_SIZE)).shape)\n",
    "\n",
    "mlp = ResidualMLP(784, ResidualMLP.MODE_SUMMATION)\n",
    "print(mlp(noise.reshape(-1, IMAGE_SIZE * IMAGE_SIZE)).shape)"
   ]
  }
 ],
 "metadata": {
  "kernelspec": {
   "display_name": "plan-generator",
   "language": "python",
   "name": "python3"
  },
  "language_info": {
   "codemirror_mode": {
    "name": "ipython",
    "version": 3
   },
   "file_extension": ".py",
   "mimetype": "text/x-python",
   "name": "python",
   "nbconvert_exporter": "python",
   "pygments_lexer": "ipython3",
   "version": "3.10.14"
  }
 },
 "nbformat": 4,
 "nbformat_minor": 2
}
