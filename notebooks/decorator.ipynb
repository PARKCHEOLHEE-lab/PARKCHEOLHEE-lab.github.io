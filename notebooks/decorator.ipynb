{
 "cells": [
  {
   "cell_type": "code",
   "execution_count": 1,
   "metadata": {},
   "outputs": [],
   "source": [
    "import os\n",
    "import time\n",
    "from functools import wraps\n",
    "from typing import Any, Callable"
   ]
  },
  {
   "cell_type": "code",
   "execution_count": 2,
   "metadata": {},
   "outputs": [
    {
     "name": "stdout",
     "output_type": "stream",
     "text": [
      "wrapper\n",
      "wrapper without @wraps\n",
      "\n",
      "Hello World\n",
      "Function `print_anything_without_wraps` executed in 1.0060 seconds \n",
      "\n"
     ]
    }
   ],
   "source": [
    "def runtime_calculator_without_wraps(func: Callable) -> Callable:\n",
    "    \"\"\"Calculate runtime of a function without @wraps\"\"\"\n",
    "\n",
    "    def wrapper(*args, **kwargs):\n",
    "        \"\"\"wrapper without @wraps\"\"\"\n",
    "        \n",
    "        start_time = time.time()\n",
    "        result = func(*args, **kwargs)\n",
    "        end_time = time.time()\n",
    "        execution_time = end_time - start_time\n",
    "        print(f\"Function `{func.__name__}` executed in {execution_time:.4f} seconds \\n\")\n",
    "        \n",
    "        return result\n",
    "\n",
    "    return wrapper\n",
    "\n",
    "\n",
    "@runtime_calculator_without_wraps\n",
    "def print_anything_without_wraps(anything: Any) -> None:\n",
    "    \"\"\"Print anything without @wraps\n",
    "\n",
    "    Args:\n",
    "        anything (Any): anything to print\n",
    "    \"\"\"\n",
    "    \n",
    "    time.sleep(1)\n",
    "    \n",
    "    print(anything)\n",
    "\n",
    "# This returns the `wrapper` function in the decorator, there is no problem with the result\n",
    "print(print_anything_without_wraps.__name__)\n",
    "print(print_anything_without_wraps.__doc__)\n",
    "print_anything_without_wraps(\"\\nHello World\")"
   ]
  },
  {
   "cell_type": "code",
   "execution_count": 3,
   "metadata": {},
   "outputs": [
    {
     "name": "stdout",
     "output_type": "stream",
     "text": [
      "print_anything_with_wraps\n",
      "Print anything with @wraps\n",
      "\n",
      "    Args:\n",
      "        anything (Any): anything to print\n",
      "    \n",
      "\n",
      "Hello World\n",
      "Function `print_anything_with_wraps` executed in 1.0116 seconds \n",
      "\n"
     ]
    }
   ],
   "source": [
    "def runtime_calculator_with_wraps(func: Callable) -> Callable:\n",
    "    \"\"\"Calculate runtime of a function with @wraps\"\"\"\n",
    "\n",
    "    @wraps(func)\n",
    "    def wrapper(*args, **kwargs):\n",
    "        \"\"\"wrapper with @wraps\"\"\"\n",
    "        \n",
    "        start_time = time.time()\n",
    "        result = func(*args, **kwargs)\n",
    "        end_time = time.time()\n",
    "        execution_time = end_time - start_time\n",
    "        print(f\"Function `{func.__name__}` executed in {execution_time:.4f} seconds \\n\")\n",
    "        \n",
    "        return result\n",
    "\n",
    "    return wrapper\n",
    "\n",
    "\n",
    "@runtime_calculator_with_wraps\n",
    "def print_anything_with_wraps(anything: Any) -> None:\n",
    "    \"\"\"Print anything with @wraps\n",
    "\n",
    "    Args:\n",
    "        anything (Any): anything to print\n",
    "    \"\"\"\n",
    "    \n",
    "    time.sleep(1)\n",
    "    \n",
    "    print(anything)\n",
    "\n",
    "# This returns the original function, the result is the same as the one without @wraps\n",
    "print(print_anything_with_wraps.__name__)\n",
    "print(print_anything_with_wraps.__doc__)\n",
    "print_anything_with_wraps(\"\\nHello World\")"
   ]
  },
  {
   "cell_type": "code",
   "execution_count": 4,
   "metadata": {},
   "outputs": [
    {
     "name": "stdout",
     "output_type": "stream",
     "text": [
      "foo is None...\n",
      "foo is bar!\n",
      "None\n"
     ]
    }
   ],
   "source": [
    "def set_and_remove_envvar(varname: str, value: str) -> Callable:\n",
    "    \"\"\"Set and remove an environment variable\"\"\"\n",
    "\n",
    "    def decorator(func: Callable) -> Callable:\n",
    "        \n",
    "        @wraps(func)\n",
    "        def wrapper(*args, **kwargs):\n",
    "            \"\"\"wrapper\"\"\"\n",
    "            \n",
    "            os.environ[varname] = value\n",
    "            result = func(*args, **kwargs)\n",
    "            del os.environ[varname]\n",
    "            return result\n",
    "\n",
    "        return wrapper\n",
    "\n",
    "    return decorator\n",
    "\n",
    "\n",
    "def foobar_without_decorator():    \n",
    "    foo = os.getenv(\"foo\")\n",
    "    assert foo is None\n",
    "    print(f\"foo is {foo}...\")\n",
    "\n",
    "\n",
    "@set_and_remove_envvar(varname=\"foo\", value=\"bar\")\n",
    "def foobar_with_decorator():\n",
    "    foo = os.getenv(\"foo\")\n",
    "    assert foo is not None\n",
    "    print(f\"foo is {foo}!\")\n",
    "        \n",
    "foobar_without_decorator()\n",
    "foobar_with_decorator()\n",
    "\n",
    "# After terminating the function, \"foo\" for the environment variable is removed\n",
    "print(os.getenv(\"foo\"))\n",
    "assert os.getenv(\"foo\") is None"
   ]
  }
 ],
 "metadata": {
  "kernelspec": {
   "display_name": "plan-generator",
   "language": "python",
   "name": "python3"
  },
  "language_info": {
   "codemirror_mode": {
    "name": "ipython",
    "version": 3
   },
   "file_extension": ".py",
   "mimetype": "text/x-python",
   "name": "python",
   "nbconvert_exporter": "python",
   "pygments_lexer": "ipython3",
   "version": "3.10.14"
  }
 },
 "nbformat": 4,
 "nbformat_minor": 2
}
