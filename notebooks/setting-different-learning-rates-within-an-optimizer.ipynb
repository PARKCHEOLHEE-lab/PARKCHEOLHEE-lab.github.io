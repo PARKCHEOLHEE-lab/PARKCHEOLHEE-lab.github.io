{
 "cells": [
  {
   "cell_type": "code",
   "execution_count": 1,
   "metadata": {},
   "outputs": [],
   "source": [
    "import torch\n",
    "import torch.nn as nn\n",
    "import torch.optim as optim\n",
    "\n",
    "class Model(nn.Module):\n",
    "    def __init__(self):\n",
    "        super().__init__()\n",
    "        \n",
    "        self.linear = nn.Linear(5, 5, bias=False)\n",
    "        self.embeds = nn.Embedding(5, 5)\n",
    "        self.params = nn.Parameter(torch.FloatTensor(5, 5))"
   ]
  },
  {
   "cell_type": "code",
   "execution_count": 2,
   "metadata": {},
   "outputs": [
    {
     "name": "stdout",
     "output_type": "stream",
     "text": [
      "Parameter containing:\n",
      "tensor([[-2.5368e+30,  9.8651e-43,  0.0000e+00,  0.0000e+00,  0.0000e+00],\n",
      "        [ 0.0000e+00,  0.0000e+00,  0.0000e+00,  0.0000e+00,  0.0000e+00],\n",
      "        [ 0.0000e+00,  0.0000e+00,  0.0000e+00,  0.0000e+00,  0.0000e+00],\n",
      "        [ 0.0000e+00,  0.0000e+00,  0.0000e+00,  0.0000e+00,  0.0000e+00],\n",
      "        [ 0.0000e+00,  0.0000e+00,  0.0000e+00,  0.0000e+00,  0.0000e+00]],\n",
      "       requires_grad=True) \n",
      "\n",
      "Parameter containing:\n",
      "tensor([[-0.0252, -0.1112,  0.2171,  0.3021, -0.4214],\n",
      "        [-0.2401,  0.0265,  0.3273,  0.3718, -0.3386],\n",
      "        [-0.2192, -0.4462, -0.1716,  0.0509,  0.3626],\n",
      "        [-0.3824,  0.3818,  0.4069, -0.0667, -0.1942],\n",
      "        [ 0.3055,  0.3448, -0.1002,  0.0351,  0.2229]], requires_grad=True) \n",
      "\n",
      "Parameter containing:\n",
      "tensor([[ 0.1807, -1.0871, -0.2045,  1.4291, -0.9593],\n",
      "        [-1.2964, -0.8838,  0.9947, -0.3255,  0.8467],\n",
      "        [ 2.5978,  0.0065,  0.1966,  1.0692,  0.8780],\n",
      "        [ 1.3668, -1.8618, -1.5452, -1.5488,  0.0560],\n",
      "        [ 0.0663, -1.4776,  1.1258, -0.0208, -0.7309]], requires_grad=True) \n",
      "\n"
     ]
    }
   ],
   "source": [
    "model = Model()\n",
    "for parameter in model.parameters():\n",
    "    print(parameter, \"\\n\")"
   ]
  },
  {
   "cell_type": "code",
   "execution_count": 3,
   "metadata": {},
   "outputs": [],
   "source": [
    "optimzer = optim.Adam(\n",
    "    [\n",
    "        {\"params\": model.linear.parameters(), \"lr\": 1e-3},\n",
    "        {\"params\": model.embeds.parameters(), \"lr\": 1e-4},\n",
    "        {\"params\": model.params, \"lr\": 1e-5},\n",
    "    ]\n",
    ")\n",
    "\n",
    "# Adam (\n",
    "# Parameter Group 0\n",
    "#     amsgrad: False\n",
    "#     betas: (0.9, 0.999)\n",
    "#     capturable: False\n",
    "#     differentiable: False\n",
    "#     eps: 1e-08\n",
    "#     foreach: None\n",
    "#     fused: None\n",
    "#     lr: 0.001\n",
    "#     maximize: False\n",
    "#     weight_decay: 0\n",
    "\n",
    "# Parameter Group 1\n",
    "#     amsgrad: False\n",
    "#     betas: (0.9, 0.999)\n",
    "#     capturable: False\n",
    "#     differentiable: False\n",
    "#     eps: 1e-08\n",
    "#     foreach: None\n",
    "#     fused: None\n",
    "#     lr: 0.0001\n",
    "#     maximize: False\n",
    "#     weight_decay: 0\n",
    "\n",
    "# Parameter Group 2\n",
    "#     amsgrad: False\n",
    "#     betas: (0.9, 0.999)\n",
    "#     capturable: False\n",
    "#     differentiable: False\n",
    "#     eps: 1e-08\n",
    "#     foreach: None\n",
    "#     fused: None\n",
    "#     lr: 1e-05\n",
    "#     maximize: False\n",
    "#     weight_decay: 0\n",
    "# )"
   ]
  }
 ],
 "metadata": {
  "kernelspec": {
   "display_name": "plan-generator",
   "language": "python",
   "name": "python3"
  },
  "language_info": {
   "codemirror_mode": {
    "name": "ipython",
    "version": 3
   },
   "file_extension": ".py",
   "mimetype": "text/x-python",
   "name": "python",
   "nbconvert_exporter": "python",
   "pygments_lexer": "ipython3",
   "version": "3.10.14"
  }
 },
 "nbformat": 4,
 "nbformat_minor": 2
}
